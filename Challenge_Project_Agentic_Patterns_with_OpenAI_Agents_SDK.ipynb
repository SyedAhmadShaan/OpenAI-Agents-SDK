{
  "nbformat": 4,
  "nbformat_minor": 0,
  "metadata": {
    "colab": {
      "provenance": [],
      "authorship_tag": "ABX9TyOc7FrlAbg9PaurpBDm5ysI",
      "include_colab_link": true
    },
    "kernelspec": {
      "name": "python3",
      "display_name": "Python 3"
    },
    "language_info": {
      "name": "python"
    }
  },
  "cells": [
    {
      "cell_type": "markdown",
      "metadata": {
        "id": "view-in-github",
        "colab_type": "text"
      },
      "source": [
        "<a href=\"https://colab.research.google.com/github/SyedAhmadShaan/OpenAI-Agents-SDK/blob/main/Challenge_Project_Agentic_Patterns_with_OpenAI_Agents_SDK.ipynb\" target=\"_parent\"><img src=\"https://colab.research.google.com/assets/colab-badge.svg\" alt=\"Open In Colab\"/></a>"
      ]
    },
    {
      "cell_type": "code",
      "execution_count": 85,
      "metadata": {
        "id": "hw69XRFt0_mo"
      },
      "outputs": [],
      "source": [
        "!pip install -Uq openai-agents tavily-python"
      ]
    },
    {
      "cell_type": "code",
      "source": [
        "import nest_asyncio\n",
        "nest_asyncio.apply()"
      ],
      "metadata": {
        "id": "s_zz8d-11L_2"
      },
      "execution_count": 86,
      "outputs": []
    },
    {
      "cell_type": "code",
      "source": [
        "import os\n",
        "from agents import Agent, Runner, AsyncOpenAI, OpenAIChatCompletionsModel, set_tracing_disabled\n",
        "from google.colab import userdata\n",
        "\n",
        "set_tracing_disabled(True)\n",
        "gemini_api_key = userdata.get(\"GOOGLE_API_KEY\")\n",
        "search_api_key = userdata.get(\"tvly_API_KEY\")\n",
        "\n",
        "#Reference: https://ai.google.dev/gemini-api/docs/openai\n",
        "external_client = AsyncOpenAI(\n",
        "    api_key=gemini_api_key,\n",
        "    base_url=\"https://generativelanguage.googleapis.com/v1beta/openai/\",\n",
        ")\n",
        "\n",
        "model = OpenAIChatCompletionsModel(\n",
        "    model=\"gemini-2.0-flash\",\n",
        "    openai_client=external_client\n",
        ")"
      ],
      "metadata": {
        "id": "3NFCMin11VKJ"
      },
      "execution_count": 87,
      "outputs": []
    },
    {
      "cell_type": "code",
      "source": [
        "from agents.tool import function_tool\n",
        "@function_tool\n",
        "def web_dev(topic: str) -> str:\n",
        "    if \"react\" in topic.lower():\n",
        "        return \"React is a JavaScript library for building user interfaces. You can start by creating components and using JSX.\"\n",
        "    elif \"css\" in topic.lower():\n",
        "        return \"CSS is used to style HTML elements. Learn about selectors, box model, flexbox, and grid.\"\n",
        "    elif \"api\" in topic.lower():\n",
        "        return \"In web development, APIs allow communication between client and server. You can use Fetch or Axios in the frontend to call REST APIs.\"\n",
        "    else:\n",
        "        return \"Can you clarify your web development question? Mention React, CSS, or API for targeted advice.\""
      ],
      "metadata": {
        "id": "I1SV8WxS3BjQ"
      },
      "execution_count": 88,
      "outputs": []
    },
    {
      "cell_type": "code",
      "source": [
        "web_dev_agent = Agent(\n",
        "    name=\"Web Dev Agent\",\n",
        "    instructions=\"You answer about web development\",\n",
        "    tools=[web_dev],\n",
        "    model=model\n",
        ")"
      ],
      "metadata": {
        "id": "dbOQXarm5FiT"
      },
      "execution_count": 89,
      "outputs": []
    },
    {
      "cell_type": "code",
      "source": [
        "@function_tool\n",
        "def mob_dev(topic: str) -> str:\n",
        "    if \"flutter\" in topic.lower():\n",
        "        return \"Flutter is a cross-platform UI toolkit by Google. You write apps using Dart and compile to native code for Android and iOS.\"\n",
        "    elif \"react native\" in topic.lower():\n",
        "        return \"React Native lets you build mobile apps using JavaScript and React. It supports Android and iOS with native performance.\"\n",
        "    elif \"android\" in topic.lower():\n",
        "        return \"Android development typically uses Kotlin or Java with Android Studio. Jetpack Compose is now preferred for UI.\"\n",
        "    elif \"ios\" in topic.lower():\n",
        "        return \"iOS development is done using Swift and Xcode. SwiftUI is the recommended framework for building UIs.\"\n",
        "    else:\n",
        "        return \"Please specify a mobile framework or platform like Flutter, React Native, Android, or iOS.\"\n"
      ],
      "metadata": {
        "id": "E4ttx89n5qVt"
      },
      "execution_count": 90,
      "outputs": []
    },
    {
      "cell_type": "code",
      "source": [
        "mob_dev_agent = Agent(\n",
        "    name=\"Mob Dev Agent\",\n",
        "    instructions=\"You answer about mobile development\",\n",
        "    tools=[mob_dev],\n",
        "    model=model\n",
        ")"
      ],
      "metadata": {
        "id": "STC_DOKN5xGQ"
      },
      "execution_count": 91,
      "outputs": []
    },
    {
      "cell_type": "code",
      "source": [
        "from agents.tool import function_tool\n",
        "from tavily import TavilyClient\n",
        "\n",
        "@function_tool\n",
        "def dev_op(query: str):\n",
        "  \"\"\"Search online for the given query.\"\"\"\n",
        "  tavily_client = TavilyClient(api_key=search_api_key)\n",
        "  response = tavily_client.search(query)\n",
        "  return response\n",
        "\n",
        "@function_tool\n",
        "def openai(query: str):\n",
        "  \"\"\"Search online for OpenAI SDK.\"\"\"\n",
        "  tavily_client = TavilyClient(api_key=search_api_key)\n",
        "  response = tavily_client.search(query)\n",
        "  return response\n",
        "\n"
      ],
      "metadata": {
        "id": "YXYcWCsE6CYX"
      },
      "execution_count": 92,
      "outputs": []
    },
    {
      "cell_type": "code",
      "source": [
        "devops_agent = Agent(\n",
        "    name=\"DevOps Agent\",\n",
        "    instructions=\"You answer about DevOps\",\n",
        "    tools=[dev_op],\n",
        "    model=model\n",
        ")"
      ],
      "metadata": {
        "id": "X4ZLVFjZAyLh"
      },
      "execution_count": 93,
      "outputs": []
    },
    {
      "cell_type": "code",
      "source": [
        "openai_agent = Agent(\n",
        "    name=\"OpenaAI Agent\",\n",
        "    instructions=\"You answer about OpenAI Agents\",\n",
        "    tools=[openai],\n",
        "    model=model\n",
        ")"
      ],
      "metadata": {
        "id": "kb-qkfDDBMWn"
      },
      "execution_count": 94,
      "outputs": []
    },
    {
      "cell_type": "code",
      "source": [
        "agentic_ai = Agent(\n",
        "    name=\"Agentic AI\",\n",
        "    instructions=\"You are expert in agentic ai. If user asks anything about devOps or OpenAI usethe appropriate tools\",\n",
        "    tools=[\n",
        "        devops_agent.as_tool(tool_name=\"devops\", tool_description=\"Specialized in DevOps\"),\n",
        "        openai_agent.as_tool(tool_name=\"openai\", tool_description=\"Specialized in OpenAI\")\n",
        "    ],\n",
        "    model=model\n",
        ")\n"
      ],
      "metadata": {
        "id": "uFuNQWGFAlxg"
      },
      "execution_count": 124,
      "outputs": []
    },
    {
      "cell_type": "code",
      "source": [
        "panacloud = Agent(\n",
        "    name=\"Panacloud\",\n",
        "    instructions= \"Answer student questions about web development, mobile development if it's about devops or openai handoff to agntic ai \",\n",
        "    model=model,\n",
        "    tools=[\n",
        "        web_dev_agent.as_tool(tool_name=\"web_dev\",\n",
        "                             tool_description=\"Specialized in web development\"\n",
        "                             ),\n",
        "        mob_dev_agent.as_tool(tool_name=\"mob_dev\",\n",
        "                             tool_description=\"Specialized in mobile development\"\n",
        "                             ),\n",
        "    ],\n",
        "    handoffs=[agentic_ai]\n",
        "\n",
        ")"
      ],
      "metadata": {
        "id": "UM1eL7cx2ZFo"
      },
      "execution_count": 125,
      "outputs": []
    },
    {
      "cell_type": "code",
      "source": [
        "!pip install -q \"openai-agents[viz]\""
      ],
      "metadata": {
        "id": "Pgi_W0E_9A8R"
      },
      "execution_count": 31,
      "outputs": []
    },
    {
      "cell_type": "code",
      "source": [
        "from agents.extensions.visualization import draw_graph\n",
        "\n",
        "draw_graph(panacloud)"
      ],
      "metadata": {
        "id": "xUF-57CH9Diq",
        "outputId": "1debecaa-7a5d-4fee-a35f-a201f5fdf7df",
        "colab": {
          "base_uri": "https://localhost:8080/",
          "height": 417
        }
      },
      "execution_count": 126,
      "outputs": [
        {
          "output_type": "execute_result",
          "data": {
            "image/svg+xml": "<?xml version=\"1.0\" encoding=\"UTF-8\" standalone=\"no\"?>\n<!DOCTYPE svg PUBLIC \"-//W3C//DTD SVG 1.1//EN\"\n \"http://www.w3.org/Graphics/SVG/1.1/DTD/svg11.dtd\">\n<!-- Generated by graphviz version 2.43.0 (0)\n -->\n<!-- Title: G Pages: 1 -->\n<svg width=\"444pt\" height=\"297pt\"\n viewBox=\"0.00 0.00 443.51 297.05\" xmlns=\"http://www.w3.org/2000/svg\" xmlns:xlink=\"http://www.w3.org/1999/xlink\">\n<g id=\"graph0\" class=\"graph\" transform=\"scale(1 1) rotate(0) translate(4 293.05)\">\n<title>G</title>\n<polygon fill=\"white\" stroke=\"transparent\" points=\"-4,4 -4,-293.05 439.51,-293.05 439.51,4 -4,4\"/>\n<!-- __start__ -->\n<g id=\"node1\" class=\"node\">\n<title>__start__</title>\n<ellipse fill=\"lightblue\" stroke=\"black\" cx=\"170.2\" cy=\"-272.79\" rx=\"51.74\" ry=\"16.03\"/>\n<text text-anchor=\"middle\" x=\"170.2\" y=\"-269.09\" font-family=\"Arial\" font-size=\"14.00\">__start__</text>\n</g>\n<!-- Panacloud -->\n<g id=\"node3\" class=\"node\">\n<title>Panacloud</title>\n<polygon fill=\"lightyellow\" stroke=\"black\" points=\"224.2,-220.53 116.2,-220.53 116.2,-162.53 224.2,-162.53 224.2,-220.53\"/>\n<text text-anchor=\"middle\" x=\"170.2\" y=\"-187.83\" font-family=\"Arial\" font-size=\"14.00\">Panacloud</text>\n</g>\n<!-- __start__&#45;&gt;Panacloud -->\n<g id=\"edge1\" class=\"edge\">\n<title>__start__&#45;&gt;Panacloud</title>\n<path fill=\"none\" stroke=\"black\" stroke-width=\"1.5\" d=\"M170.2,-256.51C170.2,-249.12 170.2,-239.89 170.2,-230.76\"/>\n<polygon fill=\"black\" stroke=\"black\" stroke-width=\"1.5\" points=\"173.7,-230.6 170.2,-220.6 166.7,-230.6 173.7,-230.6\"/>\n</g>\n<!-- __end__ -->\n<g id=\"node2\" class=\"node\">\n<title>__end__</title>\n<ellipse fill=\"lightblue\" stroke=\"black\" cx=\"185.2\" cy=\"-16.26\" rx=\"48.58\" ry=\"16.03\"/>\n<text text-anchor=\"middle\" x=\"185.2\" y=\"-12.56\" font-family=\"Arial\" font-size=\"14.00\">__end__</text>\n</g>\n<!-- web_dev -->\n<g id=\"node4\" class=\"node\">\n<title>web_dev</title>\n<ellipse fill=\"lightgreen\" stroke=\"black\" cx=\"50.2\" cy=\"-97.53\" rx=\"50.41\" ry=\"16.03\"/>\n<text text-anchor=\"middle\" x=\"50.2\" y=\"-93.83\" font-family=\"Arial\" font-size=\"14.00\">web_dev</text>\n</g>\n<!-- Panacloud&#45;&gt;web_dev -->\n<g id=\"edge2\" class=\"edge\">\n<title>Panacloud&#45;&gt;web_dev</title>\n<path fill=\"none\" stroke=\"black\" stroke-width=\"1.5\" stroke-dasharray=\"1,5\" d=\"M127.27,-162.42C108.72,-148.78 87.83,-132.65 72.41,-120.01\"/>\n<polygon fill=\"black\" stroke=\"black\" stroke-width=\"1.5\" points=\"74.38,-117.09 64.46,-113.38 69.9,-122.47 74.38,-117.09\"/>\n</g>\n<!-- mob_dev -->\n<g id=\"node5\" class=\"node\">\n<title>mob_dev</title>\n<ellipse fill=\"lightgreen\" stroke=\"black\" cx=\"170.2\" cy=\"-97.53\" rx=\"51.74\" ry=\"16.03\"/>\n<text text-anchor=\"middle\" x=\"170.2\" y=\"-93.83\" font-family=\"Arial\" font-size=\"14.00\">mob_dev</text>\n</g>\n<!-- Panacloud&#45;&gt;mob_dev -->\n<g id=\"edge4\" class=\"edge\">\n<title>Panacloud&#45;&gt;mob_dev</title>\n<path fill=\"none\" stroke=\"black\" stroke-width=\"1.5\" stroke-dasharray=\"1,5\" d=\"M163.93,-162.42C163.25,-150.21 163.3,-135.99 164.09,-124.08\"/>\n<polygon fill=\"black\" stroke=\"black\" stroke-width=\"1.5\" points=\"167.59,-124.18 165.02,-113.9 160.62,-123.54 167.59,-124.18\"/>\n</g>\n<!-- Agentic AI -->\n<g id=\"node6\" class=\"node\">\n<title>Agentic AI</title>\n<polygon fill=\"lightyellow\" stroke=\"black\" points=\"348.2,-126.53 240.2,-126.53 240.2,-68.53 348.2,-68.53 348.2,-126.53\"/>\n<text text-anchor=\"middle\" x=\"294.2\" y=\"-93.83\" font-family=\"Arial\" font-size=\"14.00\">Agentic AI</text>\n</g>\n<!-- Panacloud&#45;&gt;Agentic AI -->\n<g id=\"edge6\" class=\"edge\">\n<title>Panacloud&#45;&gt;Agentic AI</title>\n<path fill=\"none\" stroke=\"black\" stroke-width=\"1.5\" d=\"M208.08,-162.42C220.7,-153.06 234.91,-142.52 248.08,-132.75\"/>\n<polygon fill=\"black\" stroke=\"black\" stroke-width=\"1.5\" points=\"250.19,-135.54 256.13,-126.77 246.01,-129.92 250.19,-135.54\"/>\n</g>\n<!-- web_dev&#45;&gt;Panacloud -->\n<g id=\"edge3\" class=\"edge\">\n<title>web_dev&#45;&gt;Panacloud</title>\n<path fill=\"none\" stroke=\"black\" stroke-width=\"1.5\" stroke-dasharray=\"1,5\" d=\"M72.88,-112.11C89.52,-123.65 112.33,-140.73 131.74,-156.01\"/>\n<polygon fill=\"black\" stroke=\"black\" stroke-width=\"1.5\" points=\"129.81,-158.95 139.82,-162.42 134.17,-153.47 129.81,-158.95\"/>\n</g>\n<!-- mob_dev&#45;&gt;Panacloud -->\n<g id=\"edge5\" class=\"edge\">\n<title>mob_dev&#45;&gt;Panacloud</title>\n<path fill=\"none\" stroke=\"black\" stroke-width=\"1.5\" stroke-dasharray=\"1,5\" d=\"M175.39,-113.9C176.68,-124.42 177.17,-138.85 176.87,-152.36\"/>\n<polygon fill=\"black\" stroke=\"black\" stroke-width=\"1.5\" points=\"173.37,-152.3 176.48,-162.42 180.36,-152.57 173.37,-152.3\"/>\n</g>\n<!-- Agentic AI&#45;&gt;__end__ -->\n<g id=\"edge11\" class=\"edge\">\n<title>Agentic AI&#45;&gt;__end__</title>\n<path fill=\"none\" stroke=\"black\" stroke-width=\"1.5\" d=\"M255.47,-68.36C241.45,-58.16 225.9,-46.86 213.01,-37.48\"/>\n<polygon fill=\"black\" stroke=\"black\" stroke-width=\"1.5\" points=\"214.7,-34.39 204.56,-31.34 210.59,-40.05 214.7,-34.39\"/>\n</g>\n<!-- devops -->\n<g id=\"node7\" class=\"node\">\n<title>devops</title>\n<ellipse fill=\"lightgreen\" stroke=\"black\" cx=\"294.2\" cy=\"-16.26\" rx=\"42.35\" ry=\"16.03\"/>\n<text text-anchor=\"middle\" x=\"294.2\" y=\"-12.56\" font-family=\"Arial\" font-size=\"14.00\">devops</text>\n</g>\n<!-- Agentic AI&#45;&gt;devops -->\n<g id=\"edge7\" class=\"edge\">\n<title>Agentic AI&#45;&gt;devops</title>\n<path fill=\"none\" stroke=\"black\" stroke-width=\"1.5\" stroke-dasharray=\"1,5\" d=\"M287.71,-68.36C287.32,-59.94 287.37,-50.77 287.86,-42.55\"/>\n<polygon fill=\"black\" stroke=\"black\" stroke-width=\"1.5\" points=\"291.36,-42.71 288.76,-32.44 284.39,-42.09 291.36,-42.71\"/>\n</g>\n<!-- openai -->\n<g id=\"node8\" class=\"node\">\n<title>openai</title>\n<ellipse fill=\"lightgreen\" stroke=\"black\" cx=\"395.2\" cy=\"-16.26\" rx=\"40.11\" ry=\"16.03\"/>\n<text text-anchor=\"middle\" x=\"395.2\" y=\"-12.56\" font-family=\"Arial\" font-size=\"14.00\">openai</text>\n</g>\n<!-- Agentic AI&#45;&gt;openai -->\n<g id=\"edge9\" class=\"edge\">\n<title>Agentic AI&#45;&gt;openai</title>\n<path fill=\"none\" stroke=\"black\" stroke-width=\"1.5\" stroke-dasharray=\"1,5\" d=\"M323.61,-68.36C336.78,-57.63 352.24,-45.67 365.47,-36.02\"/>\n<polygon fill=\"black\" stroke=\"black\" stroke-width=\"1.5\" points=\"367.7,-38.72 373.79,-30.05 363.62,-33.03 367.7,-38.72\"/>\n</g>\n<!-- devops&#45;&gt;Agentic AI -->\n<g id=\"edge8\" class=\"edge\">\n<title>devops&#45;&gt;Agentic AI</title>\n<path fill=\"none\" stroke=\"black\" stroke-width=\"1.5\" stroke-dasharray=\"1,5\" d=\"M299.65,-32.44C300.56,-39.82 301,-49.05 300.95,-58.18\"/>\n<polygon fill=\"black\" stroke=\"black\" stroke-width=\"1.5\" points=\"297.45,-58.27 300.7,-68.36 304.45,-58.45 297.45,-58.27\"/>\n</g>\n<!-- openai&#45;&gt;Agentic AI -->\n<g id=\"edge10\" class=\"edge\">\n<title>openai&#45;&gt;Agentic AI</title>\n<path fill=\"none\" stroke=\"black\" stroke-width=\"1.5\" stroke-dasharray=\"1,5\" d=\"M382.08,-31.77C372.3,-40.31 358.5,-51.5 344.69,-62.16\"/>\n<polygon fill=\"black\" stroke=\"black\" stroke-width=\"1.5\" points=\"342.41,-59.5 336.59,-68.36 346.66,-65.06 342.41,-59.5\"/>\n</g>\n</g>\n</svg>\n",
            "text/plain": [
              "<graphviz.sources.Source at 0x7cabb42bb650>"
            ]
          },
          "metadata": {},
          "execution_count": 126
        }
      ]
    },
    {
      "cell_type": "code",
      "source": [
        "response = Runner.run_sync(panacloud, \"explain briefly devOps\")\n",
        "\n",
        "print(f\"**{response.last_agent.name}**:\\n\\n {response.final_output}\")"
      ],
      "metadata": {
        "colab": {
          "base_uri": "https://localhost:8080/"
        },
        "id": "UeV9c1JjK87l",
        "outputId": "3ce5c2fb-6b47-42f1-c4bb-466a1165eeb1"
      },
      "execution_count": 127,
      "outputs": [
        {
          "output_type": "stream",
          "name": "stdout",
          "text": [
            "**Panacloud**:\n",
            "\n",
            " DevOps is a set of practices that combines software development (Dev) and IT operations (Ops). It aims to shorten the systems development life cycle and provide continuous delivery with high software quality.\n",
            "\n"
          ]
        }
      ]
    }
  ]
}